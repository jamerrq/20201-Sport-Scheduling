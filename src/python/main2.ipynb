{
 "cells": [
  {
   "cell_type": "code",
   "execution_count": 115,
   "metadata": {},
   "outputs": [],
   "source": [
    "from gurobipy import *"
   ]
  },
  {
   "cell_type": "code",
   "execution_count": 116,
   "metadata": {},
   "outputs": [],
   "source": [
    "model = Model()"
   ]
  },
  {
   "cell_type": "markdown",
   "metadata": {},
   "source": [
    "## Data"
   ]
  },
  {
   "cell_type": "code",
   "execution_count": 117,
   "metadata": {},
   "outputs": [],
   "source": [
    "# Number of teams\n",
    "n = 30\n",
    "\n",
    "# Number of rounds\n",
    "k = 2 * (n - 1)\n",
    "\n",
    "# Set of teams\n",
    "I = [i for i in range(n)]\n",
    "\n",
    "# Set of rounds\n",
    "K = [i for i in range(k)]\n",
    "\n",
    "# Set of best teams (Brazil and Argentina)\n",
    "Is = [0, 2]\n",
    "\n",
    "# Set of names\n",
    "# names = ['BRA', 'ARG', 'PER', 'COL', 'URU', 'BOL', 'VEN', 'ECU', 'PAR', 'CHI']\n",
    "names = ['ARG', 'BOL', 'BRA', 'CHI', 'COL', 'ECU', 'PAR', 'PER', 'URU', 'VEN']"
   ]
  },
  {
   "cell_type": "markdown",
   "metadata": {},
   "source": [
    "## Variables"
   ]
  },
  {
   "cell_type": "code",
   "execution_count": 118,
   "metadata": {},
   "outputs": [],
   "source": [
    "# X_ijk = 1 if team i plays against team j in date k\n",
    "\n",
    "X = []\n",
    "for i in range(n):\n",
    "    team = []\n",
    "    for j in range(n):\n",
    "        dates = [None] * k\n",
    "        for kp in range(k):\n",
    "            dates[kp] = model.addVar(vtype=GRB.BINARY, name='{}_vs_{}_in_date_{}'.format(names[i % 10] + str(i // 10), names[j % 10] + str(j // 10), kp))\n",
    "        team.append(dates)\n",
    "    X.append(team)"
   ]
  },
  {
   "cell_type": "markdown",
   "metadata": {},
   "source": [
    "## Constraints"
   ]
  },
  {
   "cell_type": "markdown",
   "metadata": {},
   "source": [
    "### Double robin"
   ]
  },
  {
   "cell_type": "code",
   "execution_count": 119,
   "metadata": {},
   "outputs": [],
   "source": [
    "# 1. Each team plays against other twice\n",
    "model.addConstrs(quicksum(X[i][j][kp] + X[j][i][kp] for kp in K if kp < n-1) == 1 for i in I for j in I if i != j);\n",
    "\n",
    "model.addConstrs(quicksum(X[i][j][kp] + X[j][i][kp] for kp in K if kp >= n-1) == 1 for i in I for j in I if i != j);\n",
    "\n",
    "# 2. Each team plays once as local against the others\n",
    "model.addConstrs(quicksum(X[i][j][kp] for kp in K) == 1 for i in I for j in I if i != j);"
   ]
  },
  {
   "cell_type": "markdown",
   "metadata": {},
   "source": [
    "### Compactness"
   ]
  },
  {
   "cell_type": "code",
   "execution_count": 120,
   "metadata": {},
   "outputs": [],
   "source": [
    "# 3. Each team plays one match once per date\n",
    "model.addConstrs(quicksum((X[i][j][kp] + X[j][i][kp]) for i in I if i != j) == 1 for j in I for kp in K);"
   ]
  },
  {
   "cell_type": "markdown",
   "metadata": {},
   "source": [
    "### Top teams"
   ]
  },
  {
   "cell_type": "code",
   "execution_count": 121,
   "metadata": {},
   "outputs": [],
   "source": [
    "# 4. Top teams\n",
    "model.addConstrs(quicksum(X[i][j][k] + X[j][i][k] + X[i][j][k + 1] + X[j][i][k + 1] for j in Is) <= 1\n",
    "                 for i in I if Is.count(i) == 0 for k in K if k < len(K) - 1);"
   ]
  },
  {
   "cell_type": "markdown",
   "metadata": {},
   "source": [
    "### Balance"
   ]
  },
  {
   "cell_type": "code",
   "execution_count": 122,
   "metadata": {},
   "outputs": [],
   "source": [
    "# Let's introduce the auxiliar variable y_ik\n",
    "# which is equal to 1 when the team i has a H-A sequence in the double rounds\n",
    "Y = []\n",
    "for i in range(n):\n",
    "    y_i = [None] * k\n",
    "    for kp in range(k):\n",
    "        y_i[kp] = model.addVar(vtype=GRB.BINARY)\n",
    "    Y.append(y_i)\n",
    "\n",
    "# 5. Boundaries for y_ik\n",
    "model.addConstrs(quicksum(Y[i][k] for k in K if k % 2 == 0) >= n//2 - 1 for i in I);\n",
    "\n",
    "model.addConstrs(quicksum(Y[i][k] for k in K if k % 2 == 0) <= n//2 for i in I);\n",
    "\n",
    "# 6.\n",
    "model.addConstrs(quicksum(X[i][j][k] + X[j][i][k + 1] for j in I if j != i) <= 1 + Y[i][k] for i in I for k in K if k % 2 == 0);\n",
    "\n",
    "# 7.\n",
    "model.addConstrs(Y[i][k] <= quicksum(X[i][j][k] for j in I if j != i) for i in I for k in K if k % 2 == 0);\n",
    "\n",
    "# 8.\n",
    "model.addConstrs(Y[i][k] <= quicksum(X[j][i][k + 1] for j in I if j != i) for i in I for k in K if k % 2 == 0);"
   ]
  },
  {
   "cell_type": "markdown",
   "metadata": {},
   "source": [
    "## Objective Function"
   ]
  },
  {
   "cell_type": "code",
   "execution_count": 123,
   "metadata": {},
   "outputs": [],
   "source": [
    "# Let's introduce the variable w_ik\n",
    "# which is 1 when the team i has an away break in the double round starting in the round k\n",
    "W = []\n",
    "for i in range(n):\n",
    "    w_i = [None] * k\n",
    "    for kp in range(k):\n",
    "        w_i[kp] = model.addVar(vtype=GRB.BINARY)\n",
    "    W.append(w_i)\n",
    "\n",
    "# 9.\n",
    "model.addConstrs(quicksum(X[j][i][k] + X[j][i][k + 1] for j in I if j != i) <= 1 + W[i][k] for i in I for k in K if k % 2 == 0);\n",
    "\n",
    "# 10. Boundaries for w_ik\n",
    "model.addConstrs(W[i][k] <= quicksum(X[j][i][k] for j in I if j != i) for i in I for k in K if k % 2 == 0);\n",
    "\n",
    "model.addConstrs(W[i][k] <= quicksum(X[j][i][k + 1] for j in I if j != i) for i in I for k in K if k % 2 == 0);\n",
    "\n",
    "# Minimize the w_ik\n",
    "\n",
    "obj = quicksum(W[i][k] for i in I for k in K if k % 2 == 0);\n",
    "\n",
    "#model.setParam(GRB.Param.TimeLimit, 60*5)\n",
    "\n",
    "model.setObjective(obj, GRB.MINIMIZE)\n",
    "#model.setObjective(quicksum(X[i][j][kp] for i in I for j in I for kp in K), GRB.MINIMIZE)"
   ]
  },
  {
   "cell_type": "markdown",
   "metadata": {},
   "source": [
    "## Schemes"
   ]
  },
  {
   "cell_type": "markdown",
   "metadata": {},
   "source": [
    "### Mirrored"
   ]
  },
  {
   "cell_type": "code",
   "execution_count": 124,
   "metadata": {},
   "outputs": [],
   "source": [
    "#model.addConstrs(X[i][j][kp] == X[j][i][kp + n - 1] for i in I for j in I if i != j for kp in K if kp < n - 1);"
   ]
  },
  {
   "cell_type": "markdown",
   "metadata": {},
   "source": [
    "### French"
   ]
  },
  {
   "cell_type": "code",
   "execution_count": 125,
   "metadata": {},
   "outputs": [],
   "source": [
    "#model.addConstrs(X[i][j][0] == X[j][i][-1] for i in I for j in I if i != j);\n",
    "\n",
    "#model.addConstrs(X[i][j][kp] == X[j][i][kp + n - 2] for i in I for j in I if i != j for kp in K[1:n-1]);"
   ]
  },
  {
   "cell_type": "markdown",
   "metadata": {},
   "source": [
    "### English"
   ]
  },
  {
   "cell_type": "code",
   "execution_count": 126,
   "metadata": {},
   "outputs": [],
   "source": [
    "#model.addConstrs(X[i][j][n - 2] == X[j][i][n - 1] for i in I for j in I if i != j);\n",
    "\n",
    "#model.addConstrs(X[i][j][kp] == X[j][i][kp + n] for i in I for j in I if i != j for kp in K[:n-2]);"
   ]
  },
  {
   "cell_type": "markdown",
   "metadata": {},
   "source": [
    "### Inverted"
   ]
  },
  {
   "cell_type": "code",
   "execution_count": 127,
   "metadata": {},
   "outputs": [],
   "source": [
    "model.addConstrs(X[i][j][kp] == X[j][i][2*n - 1 - kp - 2] for i in I for j in I if i != j for kp in K[:n-2]);"
   ]
  },
  {
   "cell_type": "markdown",
   "metadata": {},
   "source": [
    "### Back to back"
   ]
  },
  {
   "cell_type": "code",
   "execution_count": 128,
   "metadata": {},
   "outputs": [],
   "source": [
    "#model.addConstrs(X[i][j][kp] == X[j][i][kp + 1] for i in I for j in I if i != j for kp in K[0:len(K):2]);"
   ]
  },
  {
   "cell_type": "markdown",
   "metadata": {},
   "source": [
    "### Min-Max separation"
   ]
  },
  {
   "cell_type": "code",
   "execution_count": 129,
   "metadata": {},
   "outputs": [],
   "source": [
    "c = 6\n",
    "d = 12\n",
    "\n",
    "#model.addConstrs(quicksum(X[i][j][k2] + X[j][i][k2] for k2 in K if k2 >= kp and k2 <= kp + c) <= 1 for i in I\n",
    "#                for j in I if i != j for kp in K if kp <= len(K) - c);\n",
    "\n",
    "#model.addConstrs(quicksum(X[i][j][k2] for k2 in K if k2 >= 0 and (k2 <= kp + d or k2 <= 2 * (n - 1)) and k2 != kp)\n",
    "#                 >= X[j][i][kp] for i in I for j in I if i != j for kp in K);"
   ]
  },
  {
   "cell_type": "markdown",
   "metadata": {},
   "source": [
    "### New restrictions [March 6]"
   ]
  },
  {
   "cell_type": "code",
   "execution_count": 130,
   "metadata": {},
   "outputs": [],
   "source": [
    "# 11. In half of the matches, one as local and one as visitant against the best teams\n",
    "\n",
    "model.addConstrs(quicksum(X[i][j][kp] for j in Is for kp in K[:n-1]) == 1 for i in I if Is.count(i) == 0);"
   ]
  },
  {
   "cell_type": "markdown",
   "metadata": {},
   "source": [
    "### New constraints [March 13]"
   ]
  },
  {
   "cell_type": "code",
   "execution_count": 131,
   "metadata": {},
   "outputs": [],
   "source": [
    "# 12. Balance H-A and A-H sequences\n",
    "\n",
    "model.addConstrs(quicksum(Y[i][k2] for k2 in range(kp, kp + 3)) <= 2 for i in I for j in I if i != j\n",
    "                 for kp in K if kp % 2 == 0 and kp < len(K) - 4);\n",
    "\n",
    "model.addConstrs(quicksum(Y[i][k2] for k2 in range(kp, kp + 3)) >= 1 for i in I for j in I if i != j\n",
    "                 for kp in K if kp % 2 == 0 and kp < len(K) - 4);"
   ]
  },
  {
   "cell_type": "code",
   "execution_count": 132,
   "metadata": {
    "scrolled": true
   },
   "outputs": [],
   "source": [
    "#model.optimize()"
   ]
  },
  {
   "cell_type": "code",
   "execution_count": 133,
   "metadata": {},
   "outputs": [],
   "source": [
    "model.write('/home/jamerrq/Documents/Dropbox/inverted30.mps')"
   ]
  }
 ],
 "metadata": {
  "kernelspec": {
   "display_name": "Python 3",
   "language": "python",
   "name": "python3"
  },
  "language_info": {
   "codemirror_mode": {
    "name": "ipython",
    "version": 3
   },
   "file_extension": ".py",
   "mimetype": "text/x-python",
   "name": "python",
   "nbconvert_exporter": "python",
   "pygments_lexer": "ipython3",
   "version": "3.7.4-final"
  }
 },
 "nbformat": 4,
 "nbformat_minor": 2
}