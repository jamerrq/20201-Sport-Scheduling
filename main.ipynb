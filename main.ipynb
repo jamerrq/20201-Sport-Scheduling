{
 "cells": [
  {
   "cell_type": "code",
   "execution_count": 1,
   "metadata": {},
   "outputs": [],
   "source": [
    "from gurobipy import *"
   ]
  },
  {
   "cell_type": "code",
   "execution_count": 2,
   "metadata": {},
   "outputs": [
    {
     "name": "stdout",
     "output_type": "stream",
     "text": [
      "Using license file /home/jamerrq/gurobi.lic\n",
      "Academic license - for non-commercial use only\n"
     ]
    }
   ],
   "source": [
    "model = Model()"
   ]
  },
  {
   "cell_type": "markdown",
   "metadata": {},
   "source": [
    "## Data"
   ]
  },
  {
   "cell_type": "code",
   "execution_count": 3,
   "metadata": {},
   "outputs": [],
   "source": [
    "# Number of teams\n",
    "n = 10\n",
    "\n",
    "# Number of rounds\n",
    "k = 18\n",
    "\n",
    "# Set of teams\n",
    "I = [i for i in range(n)]\n",
    "\n",
    "# Set of rounds\n",
    "K = [i for i in range(k)]\n",
    "\n",
    "# Set of best teams (Brazil and Argentina)\n",
    "Is = [0, 2]\n",
    "\n",
    "# Set of names\n",
    "# names = ['BRA', 'ARG', 'PER', 'COL', 'URU', 'BOL', 'VEN', 'ECU', 'PAR', 'CHI']\n",
    "names = ['ARG', 'BOL', 'BRA', 'CHI', 'COL', 'ECU', 'PAR', 'PER', 'URU', 'VEN']"
   ]
  },
  {
   "cell_type": "markdown",
   "metadata": {},
   "source": [
    "## Variables"
   ]
  },
  {
   "cell_type": "code",
   "execution_count": 4,
   "metadata": {},
   "outputs": [],
   "source": [
    "# X_ijk = 1 if team i plays against team j in date k\n",
    "\n",
    "X = []\n",
    "for i in range(n):\n",
    "    team = []\n",
    "    for j in range(n):\n",
    "        dates = [None] * k\n",
    "        for kp in range(k):\n",
    "            dates[kp] = model.addVar(vtype=GRB.BINARY, name='{} vs {} in date {}'.format(names[i], names[j], kp))\n",
    "        team.append(dates)\n",
    "    X.append(team)"
   ]
  },
  {
   "cell_type": "markdown",
   "metadata": {},
   "source": [
    "## Constraints"
   ]
  },
  {
   "cell_type": "markdown",
   "metadata": {},
   "source": [
    "### Double robin"
   ]
  },
  {
   "cell_type": "code",
   "execution_count": 5,
   "metadata": {},
   "outputs": [],
   "source": [
    "# 1. Each team plays against other twice\n",
    "model.addConstrs(quicksum(X[i][j][kp] + X[j][i][kp] for kp in K if kp < n-1) == 1 for i in I for j in I if i != j);\n",
    "\n",
    "model.addConstrs(quicksum(X[i][j][kp] + X[j][i][kp] for kp in K if kp >= n-1) == 1 for i in I for j in I if i != j);\n",
    "\n",
    "# 2. Each team plays once as local against the others\n",
    "model.addConstrs(quicksum(X[i][j][kp] for kp in K) == 1 for i in I for j in I if i != j);"
   ]
  },
  {
   "cell_type": "markdown",
   "metadata": {},
   "source": [
    "### Compactness"
   ]
  },
  {
   "cell_type": "code",
   "execution_count": 6,
   "metadata": {},
   "outputs": [],
   "source": [
    "# 3. Each team plays one match once per date\n",
    "model.addConstrs(quicksum((X[i][j][kp] + X[j][i][kp]) for i in I if i != j) == 1 for j in I for kp in K);"
   ]
  },
  {
   "cell_type": "markdown",
   "metadata": {},
   "source": [
    "### Top teams"
   ]
  },
  {
   "cell_type": "code",
   "execution_count": 7,
   "metadata": {},
   "outputs": [],
   "source": [
    "# 4. Top teams\n",
    "model.addConstrs(quicksum(X[i][j][k] + X[j][i][k] + X[i][j][k + 1] + X[j][i][k + 1] for j in Is) <= 1\n",
    "                 for i in I if Is.count(i) == 0 for k in K if k < len(K) - 1);"
   ]
  },
  {
   "cell_type": "markdown",
   "metadata": {},
   "source": [
    "### Balance"
   ]
  },
  {
   "cell_type": "code",
   "execution_count": 8,
   "metadata": {},
   "outputs": [],
   "source": [
    "# Let's introduce the auxiliar variable y_ik\n",
    "# which is equal to 1 when the team i has a H-A sequence in the double rounds\n",
    "Y = []\n",
    "for i in range(n):\n",
    "    y_i = [None] * k\n",
    "    for kp in range(k):\n",
    "        y_i[kp] = model.addVar(vtype=GRB.BINARY)\n",
    "    Y.append(y_i)\n",
    "\n",
    "# 5. Boundaries for y_ik\n",
    "model.addConstrs(quicksum(Y[i][k] for k in K if k % 2 == 0) >= n//2 - 1 for i in I);\n",
    "\n",
    "model.addConstrs(quicksum(Y[i][k] for k in K if k % 2 == 0) <= n//2 for i in I);\n",
    "\n",
    "# 6.\n",
    "model.addConstrs(quicksum(X[i][j][k] + X[j][i][k + 1] for j in I if j != i) <= 1 + Y[i][k] for i in I for k in K if k % 2 == 0);\n",
    "\n",
    "# 7.\n",
    "model.addConstrs(Y[i][k] <= quicksum(X[i][j][k] for j in I if j != i) for i in I for k in K if k % 2 == 0);\n",
    "\n",
    "# 8.\n",
    "model.addConstrs(Y[i][k] <= quicksum(X[j][i][k + 1] for j in I if j != i) for i in I for k in K if k % 2 == 0);"
   ]
  },
  {
   "cell_type": "markdown",
   "metadata": {},
   "source": [
    "## Objective Function"
   ]
  },
  {
   "cell_type": "code",
   "execution_count": 9,
   "metadata": {},
   "outputs": [
    {
     "name": "stdout",
     "output_type": "stream",
     "text": [
      "Changed value of parameter TimeLimit to 300.0\n",
      "   Prev: inf  Min: 0.0  Max: inf  Default: inf\n"
     ]
    }
   ],
   "source": [
    "# Let's introduce the variable w_ik\n",
    "# which is 1 when the team i has an away break in the double round starting in the round k\n",
    "W = []\n",
    "for i in range(n):\n",
    "    w_i = [None] * k\n",
    "    for kp in range(k):\n",
    "        w_i[kp] = model.addVar(vtype=GRB.BINARY)\n",
    "    W.append(w_i)\n",
    "\n",
    "# 9.\n",
    "model.addConstrs(quicksum(X[j][i][k] + X[j][i][k + 1] for j in I if j != i) <= 1 + W[i][k] for i in I for k in K if k % 2 == 0);\n",
    "\n",
    "# 10. Boundaries for w_ik\n",
    "model.addConstrs(W[i][k] <= quicksum(X[j][i][k] for j in I if j != i) for i in I for k in K if k % 2 == 0);\n",
    "\n",
    "model.addConstrs(W[i][k] <= quicksum(X[j][i][k + 1] for j in I if j != i) for i in I for k in K if k % 2 == 0);\n",
    "\n",
    "# Minimize the w_ik\n",
    "\n",
    "obj = quicksum(W[i][k] for i in I for k in K if k % 2 == 0);\n",
    "\n",
    "model.setParam(GRB.Param.TimeLimit, 60*5)\n",
    "\n",
    "model.setObjective(obj, GRB.MINIMIZE)\n",
    "#model.setObjective(quicksum(X[i][j][kp] for i in I for j in I for kp in K), GRB.MINIMIZE)"
   ]
  },
  {
   "cell_type": "markdown",
   "metadata": {},
   "source": [
    "## Schemes"
   ]
  },
  {
   "cell_type": "markdown",
   "metadata": {},
   "source": [
    "### Mirrored"
   ]
  },
  {
   "cell_type": "code",
   "execution_count": 10,
   "metadata": {},
   "outputs": [],
   "source": [
    "#model.addConstrs(X[i][j][kp] == X[j][i][kp + n - 1] for i in I for j in I if i != j for kp in K if kp < n - 1);"
   ]
  },
  {
   "cell_type": "markdown",
   "metadata": {},
   "source": [
    "### French"
   ]
  },
  {
   "cell_type": "code",
   "execution_count": 11,
   "metadata": {},
   "outputs": [],
   "source": [
    "model.addConstrs(X[i][j][0] == X[j][i][-1] for i in I for j in I if i != j);\n",
    "\n",
    "model.addConstrs(X[i][j][kp] == X[j][i][kp + n - 2] for i in I for j in I if i != j for kp in K[1:n-1]);"
   ]
  },
  {
   "cell_type": "markdown",
   "metadata": {},
   "source": [
    "### English"
   ]
  },
  {
   "cell_type": "code",
   "execution_count": 12,
   "metadata": {},
   "outputs": [],
   "source": [
    "#model.addConstrs(X[i][j][n - 2] == X[j][i][n - 1] for i in I for j in I if i != j);\n",
    "\n",
    "#model.addConstrs(X[i][j][kp] == X[j][i][kp + n] for i in I for j in I if i != j for kp in K[:n-2]);"
   ]
  },
  {
   "cell_type": "markdown",
   "metadata": {},
   "source": [
    "### Inverted"
   ]
  },
  {
   "cell_type": "code",
   "execution_count": 13,
   "metadata": {},
   "outputs": [],
   "source": [
    "#model.addConstrs(X[i][j][kp] == X[j][i][2*n - 1 - kp - 2] for i in I for j in I if i != j for kp in K[:n-2]);"
   ]
  },
  {
   "cell_type": "markdown",
   "metadata": {},
   "source": [
    "### Back to back"
   ]
  },
  {
   "cell_type": "code",
   "execution_count": 14,
   "metadata": {},
   "outputs": [],
   "source": [
    "#model.addConstrs(X[i][j][kp] == X[j][i][kp + 1] for i in I for j in I if i != j for kp in K[0:len(K):2]);"
   ]
  },
  {
   "cell_type": "markdown",
   "metadata": {},
   "source": [
    "### Min-Max separation"
   ]
  },
  {
   "cell_type": "code",
   "execution_count": 15,
   "metadata": {},
   "outputs": [],
   "source": [
    "c = 6\n",
    "d = 12\n",
    "\n",
    "#model.addConstrs(quicksum(X[i][j][k2] + X[j][i][k2] for k2 in K if k2 >= kp and k2 <= kp + c) <= 1 for i in I\n",
    "#                for j in I if i != j for kp in K if kp <= len(K) - c);\n",
    "\n",
    "#model.addConstrs(quicksum(X[i][j][k2] for k2 in K if k2 >= 0 and (k2 <= kp + d or k2 <= 2 * (n - 1)) and k2 != kp)\n",
    "#                 >= X[j][i][kp] for i in I for j in I if i != j for kp in K);"
   ]
  },
  {
   "cell_type": "markdown",
   "metadata": {},
   "source": [
    "### New restrictions [March 6]"
   ]
  },
  {
   "cell_type": "code",
   "execution_count": 16,
   "metadata": {},
   "outputs": [],
   "source": [
    "# 11. In half of the matches, one as local and one as visitant against the best teams\n",
    "\n",
    "model.addConstrs(quicksum(X[i][j][kp] for j in Is for kp in K[:n-1]) == 1 for i in I if Is.count(i) == 0);"
   ]
  },
  {
   "cell_type": "markdown",
   "metadata": {},
   "source": [
    "### New constraints [March 13]"
   ]
  },
  {
   "cell_type": "code",
   "execution_count": 17,
   "metadata": {},
   "outputs": [],
   "source": [
    "# 12. Balance H-A and A-H sequences\n",
    "\n",
    "model.addConstrs(quicksum(Y[i][k2] for k2 in range(kp, kp + 3)) <= 2 for i in I for j in I if i != j\n",
    "                 for kp in K if kp % 2 == 0 and kp < len(K) - 4);\n",
    "\n",
    "model.addConstrs(quicksum(Y[i][k2] for k2 in range(kp, kp + 3)) >= 1 for i in I for j in I if i != j\n",
    "                 for kp in K if kp % 2 == 0 and kp < len(K) - 4);"
   ]
  },
  {
   "cell_type": "code",
   "execution_count": 18,
   "metadata": {
    "scrolled": true
   },
   "outputs": [
    {
     "name": "stdout",
     "output_type": "stream",
     "text": [
      "Gurobi Optimizer version 9.0.1 build v9.0.1rc0 (linux64)\n",
      "Optimize a model with 3224 rows, 2160 columns and 21932 nonzeros\n",
      "Model fingerprint: 0x7c0fd579\n",
      "Variable types: 0 continuous, 2160 integer (2160 binary)\n",
      "Coefficient statistics:\n",
      "  Matrix range     [1e+00, 1e+00]\n",
      "  Objective range  [1e+00, 1e+00]\n",
      "  Bounds range     [1e+00, 1e+00]\n",
      "  RHS range        [1e+00, 5e+00]\n",
      "Presolve removed 2317 rows and 1100 columns\n",
      "Presolve time: 0.05s\n",
      "Presolved: 907 rows, 1060 columns, 10738 nonzeros\n",
      "Variable types: 0 continuous, 1060 integer (1060 binary)\n",
      "\n",
      "Root relaxation: objective 0.000000e+00, 961 iterations, 0.08 seconds\n",
      "\n",
      "    Nodes    |    Current Node    |     Objective Bounds      |     Work\n",
      " Expl Unexpl |  Obj  Depth IntInf | Incumbent    BestBd   Gap | It/Node Time\n",
      "\n",
      "*    0     0               0       0.0000000    0.00000  0.00%     -    0s\n",
      "\n",
      "Explored 0 nodes (2928 simplex iterations) in 0.32 seconds\n",
      "Thread count was 4 (of 4 available processors)\n",
      "\n",
      "Solution count 1: 0 \n",
      "\n",
      "Optimal solution found (tolerance 1.00e-04)\n",
      "Best objective 0.000000000000e+00, best bound 0.000000000000e+00, gap 0.0000%\n"
     ]
    }
   ],
   "source": [
    "model.optimize()"
   ]
  },
  {
   "cell_type": "code",
   "execution_count": 19,
   "metadata": {},
   "outputs": [
    {
     "name": "stdout",
     "output_type": "stream",
     "text": [
      " TEM | DT01  DT02  DT03  DT04  DT05  DT06  DT07  DT08  DT09 | DT10  DT11  DT12  DT13  DT14  DT15  DT16  DT17  DT18 \n",
      "------------------------------------------------------------------------------------------------------------------\n",
      " ARG |  -A-   -H-   -H-   -A-   -A-   -H-   -H-   -A-   -H- |  -A-   -A-   -H-   -H-   -A-   -A-   -H-   -A-   -H- \n",
      " BOL |  -A-   -H-   -H-   -A-   -H-   -A-   -A-   -H-   -H- |  -A-   -A-   -H-   -A-   -H-   -H-   -A-   -A-   -H- \n",
      " BRA |  -H-   -A-   -H-   -A-   -A-   -H-   -A-   -H-   -A- |  -H-   -A-   -H-   -H-   -A-   -H-   -A-   -H-   -A- \n",
      " CHI |  -A-   -H-   -A-   -H-   -H-   -A-   -A-   -H-   -H- |  -A-   -H-   -A-   -A-   -H-   -H-   -A-   -A-   -H- \n",
      " COL |  -A-   -H-   -H-   -A-   -A-   -H-   -A-   -H-   -H- |  -A-   -A-   -H-   -H-   -A-   -H-   -A-   -A-   -H- \n",
      " ECU |  -H-   -A-   -A-   -H-   -H-   -A-   -H-   -A-   -A- |  -H-   -H-   -A-   -A-   -H-   -A-   -H-   -H-   -A- \n",
      " PAR |  -H-   -A-   -A-   -H-   -H-   -A-   -A-   -H-   -A- |  -H-   -H-   -A-   -A-   -H-   -H-   -A-   -H-   -A- \n",
      " PER |  -H-   -A-   -H-   -A-   -A-   -H-   -H-   -A-   -A- |  -H-   -A-   -H-   -H-   -A-   -A-   -H-   -H-   -A- \n",
      " URU |  -H-   -A-   -A-   -H-   -A-   -H-   -H-   -A-   -A- |  -H-   -H-   -A-   -H-   -A-   -A-   -H-   -H-   -A- \n",
      " VEN |  -A-   -H-   -A-   -H-   -H-   -A-   -H-   -A-   -H- |  -A-   -H-   -A-   -A-   -H-   -A-   -H-   -A-   -H- \n"
     ]
    }
   ],
   "source": [
    "row = ' TEM | DT01  DT02  DT03  DT04  DT05  DT06  DT07  DT08  DT09 |'\n",
    "\n",
    "for i in range(10, 19):\n",
    "    row += ' DT{} '.format(i)\n",
    "\n",
    "print(row, '-' * 114, sep='\\n')\n",
    "\n",
    "for i in range(n):\n",
    "    row = ' {} |'.format(names[i])\n",
    "    for kp in range(k):\n",
    "        for j in range(n):\n",
    "            if X[i][j][kp].X == 1:\n",
    "                #row += '  {} '.format(names[j])\n",
    "                row += '  -H- '\n",
    "            if X[j][i][kp].X == 1:\n",
    "                #row += ' @{} '.format(names[j])\n",
    "                row += '  -A- '\n",
    "        if kp == 8:\n",
    "            row += '|'\n",
    "    print(row)"
   ]
  }
 ],
 "metadata": {
  "kernelspec": {
   "display_name": "Python 3",
   "language": "python",
   "name": "python3"
  },
  "language_info": {
   "codemirror_mode": {
    "name": "ipython",
    "version": 3
   },
   "file_extension": ".py",
   "mimetype": "text/x-python",
   "name": "python",
   "nbconvert_exporter": "python",
   "pygments_lexer": "ipython3",
   "version": "3.7.4"
  }
 },
 "nbformat": 4,
 "nbformat_minor": 2
}
